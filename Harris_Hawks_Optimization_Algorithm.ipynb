{
  "nbformat": 4,
  "nbformat_minor": 0,
  "metadata": {
    "colab": {
      "name": "Harris Hawks Optimization Algorithm.ipynb",
      "version": "0.3.2",
      "provenance": [],
      "collapsed_sections": [],
      "include_colab_link": true
    },
    "kernelspec": {
      "name": "python3",
      "display_name": "Python 3"
    },
    "accelerator": "TPU"
  },
  "cells": [
    {
      "cell_type": "markdown",
      "metadata": {
        "id": "view-in-github",
        "colab_type": "text"
      },
      "source": [
        "<a href=\"https://colab.research.google.com/github/bigb0ss/Retail-datasets/blob/master/Harris_Hawks_Optimization_Algorithm.ipynb\" target=\"_parent\"><img src=\"https://colab.research.google.com/assets/colab-badge.svg\" alt=\"Open In Colab\"/></a>"
      ]
    },
    {
      "cell_type": "code",
      "metadata": {
        "id": "k18JUD6wOhgY",
        "colab_type": "code",
        "colab": {}
      },
      "source": [
        "import numpy as np\n",
        "import scipy as spy\n",
        "from time import time\n",
        "import pandas as pd\n",
        "import matplotlib.pyplot as plt\n",
        "%matplotlib inline\n",
        "\n",
        "from tqdm import tqdm"
      ],
      "execution_count": 0,
      "outputs": []
    },
    {
      "cell_type": "code",
      "metadata": {
        "id": "0I9KSeOhO-4A",
        "colab_type": "code",
        "colab": {}
      },
      "source": [
        "class HHO():\n",
        "  \n",
        "  def __init__(self,N,T,nfeatures,pop=[]):\n",
        "    self.N=N\n",
        "    self.T=T\n",
        "    self.n_features = nfeatures\n",
        "    if len(pop)==0:\n",
        "      self.population = np.random.random((self.N,self.n_features))\n",
        "    else:\n",
        "      self.population=pop[:]\n",
        "    \n",
        "    \n",
        "  def optimize(self):\n",
        "    \n",
        "    self.UB=len(self.population)-1\n",
        "    self.LB =0\n",
        "    i=0\n",
        "    for i in tqdm(range(self.T)):\n",
        "      \n",
        "      if i==0:\n",
        "        print()\n",
        "      best_fitness=0\n",
        "      for i in range(len(self.population)):\n",
        "          #model =create_model(self.population[i][0],self.population[i][1],self.population[i][2])\n",
        "          acc =np.mean(self.population[i])#train_model(model)\n",
        "          if acc > best_fitness:\n",
        "            best_ftiness = acc\n",
        "            index = i\n",
        "      \n",
        "      self.rabbit = self.population[index]\n",
        "      \n",
        "      for t,hawk in enumerate(self.population) :\n",
        "        \n",
        "        E=2*np.random.rand() -1\n",
        "        J = 2*(1 - np.random.rand())\n",
        "        \n",
        "        E = self.update_E(E,i+1)\n",
        "        \n",
        "        if np.abs(E) >= 1:\n",
        "          self.exploration(t)\n",
        "        \n",
        "        if np.abs(E) < 1:\n",
        "          \n",
        "          r=np.random.rand()\n",
        "          \n",
        "          if r>=0.5 and np.abs(E)>=0.5 :\n",
        "            #update vector using eqn(4)\n",
        "            self.soft_baise(t,E,J)\n",
        "          elif r>=0.5 and np.abs(E) <0.5:\n",
        "            #update vector using eqn (6)\n",
        "            self.hard_baise(t,E)\n",
        "          elif r<0.5 and np.abs(E) >=0.5:\n",
        "            #update vector using eqn (10)\n",
        "            self.soft_baise_dive(t,E,J)\n",
        "          elif r<0.5 and np.abs(E) <0.5:\n",
        "            #update vector using eqn (11)\n",
        "            self.hard_baise_dive(t,E,J)\n",
        "           \n",
        "      #print(\"\\t Best fitness value in this iteration = \",best_fitness) \n",
        "      #print(\"best rabbit in this iteration : \",self.rabbit)\n",
        "    return self.rabbit,index\n",
        "\n",
        "  def update_E(self,E,t):\n",
        "    E = 2 * E *(1 - t/self.T)\n",
        "    return E\n",
        "  \n",
        "  def soft_baise(self,t,E,J):\n",
        "    del_x = self.rabbit - self.population[t]\n",
        "    \n",
        "    self.population[(t+1)%self.UB+1]= del_x  - E * np.abs( J * self.rabbit - self.population[t] )\n",
        "  \n",
        "  def hard_baise(self,t,E):\n",
        "    del_x = self.rabbit - self.population[t]\n",
        "    \n",
        "    self.population[(t+1)%self.UB+1] = self.rabbit - E * np.abs(del_x)\n",
        "  \n",
        "  def soft_baise_dive(self,t,E,J):\n",
        "    Y = self.rabbit - E* np.abs(J * self.rabbit - self.population[t])\n",
        "    \n",
        "    s = np.random.randn(1,self.n_features)\n",
        "    \n",
        "    u=np.random.random()\n",
        "    v= np.random.random()\n",
        "    \n",
        "    std = np.std(self.population[t])\n",
        "    beta = 1/1.5\n",
        "    \n",
        "    lf= 0.01 * u * std /(np.abs(v)**beta)\n",
        "    \n",
        "    Z = Y + s * lf\n",
        "    \n",
        "    if self.fitness(Y) < self.fitness(self.population[t]):\n",
        "      self.population[(t+1)%self.UB+1] = Y\n",
        "    elif self.fitness(Z) < self.fitness(self.population[t]):\n",
        "      self.population[(t+1)%self.UB+1] = Z\n",
        "  \n",
        "  def hard_baise_dive(self,t,E,J):\n",
        "    avg=0  \n",
        "    for i in self.population:\n",
        "      avg+=i\n",
        "  \n",
        "    pop = len(self.population)\n",
        "    avg=avg/pop\n",
        "    \n",
        "    \n",
        "    Y = self.rabbit - E* np.abs(J*self.rabbit - avg)\n",
        "    s = np.random.randn(1,self.n_features)\n",
        "    \n",
        "    u=np.random.random()\n",
        "    v= np.random.random()\n",
        "    \n",
        "    std = np.std(self.population[t])\n",
        "    beta = 1/1.5\n",
        "    \n",
        "    lf= 0.01 * u * std /(np.abs(v)**beta)\n",
        "    \n",
        "    Z = Y + s * lf\n",
        "    \n",
        "    if self.fitness(Y) < self.fitness(self.population[t]):\n",
        "      self.population[(t+1)%self.UB+1] = Y\n",
        "    elif self.fitness(Z) < self.fitness(self.population[t]):\n",
        "      self.population[(t+1)%self.UB+1] = Z\n",
        "  \n",
        "  def exploration(self,t):\n",
        "    q = np.random.random()\n",
        "    r1= np.random.random()\n",
        "    r2= np.random.random()\n",
        "    r3= np.random.random()\n",
        "    r4= np.random.random()\n",
        "  \n",
        "    avg=0  \n",
        "    for i in self.population:\n",
        "      avg+=i\n",
        "  \n",
        "    pop = len(self.population)\n",
        "    avg=avg/pop\n",
        "   \n",
        "    k = np.random.randint(low=0,high=pop-1)\n",
        "    if q >= 0.5 :\n",
        "      self.population[(t+1)%pop] = self.population[k] -r1 * (self.population[k] - 2* r2 *self.population[t])\n",
        "    else :\n",
        "      self.population[(t+1)%pop] = (self.rabbit - avg) - r3 *( 0 + r4 * (pop-1 - 0))\n",
        "    \n",
        "  def fitness(self,hawk):\n",
        "    sum=np.mean(hawk)\n",
        "   \n",
        "    return sum"
      ],
      "execution_count": 0,
      "outputs": []
    },
    {
      "cell_type": "code",
      "metadata": {
        "id": "6UMifMc5-lDD",
        "colab_type": "code",
        "colab": {}
      },
      "source": [
        "from sklearn.svm import LinearSVC,LinearSVR\n",
        "from sklearn.datasets import make_classification\n",
        "from sklearn.metrics import accuracy_score"
      ],
      "execution_count": 0,
      "outputs": []
    },
    {
      "cell_type": "code",
      "metadata": {
        "id": "4mV9Cbl1-knX",
        "colab_type": "code",
        "colab": {}
      },
      "source": [
        "def create_model(c , penalty , iters):\n",
        "  if np.abs(int(penalty))%2==0:\n",
        "    penalty='epsilon_insensitive'\n",
        "  else:\n",
        "    penalty='squared_epsilon_insensitive'\n",
        "  dual=True\n",
        "    \n",
        "  c=np.abs(c)\n",
        "  iters = int(iters)\n",
        "  #print(c)\n",
        "  model = LinearSVR(C=c,loss=penalty,max_iter=iters,dual=dual)\n",
        "  return model"
      ],
      "execution_count": 0,
      "outputs": []
    },
    {
      "cell_type": "code",
      "metadata": {
        "id": "LWrNYv47APDW",
        "colab_type": "code",
        "colab": {}
      },
      "source": [
        "def train_model(model):\n",
        "  history = model.fit(X,y)\n",
        "  return accuracy_score(y,model.predict(X))"
      ],
      "execution_count": 0,
      "outputs": []
    },
    {
      "cell_type": "code",
      "metadata": {
        "id": "zqQMSBvRAOoG",
        "colab_type": "code",
        "outputId": "10d7ea6d-82df-42c5-a2d0-aef1a7fdee51",
        "colab": {
          "base_uri": "https://localhost:8080/",
          "height": 271
        }
      },
      "source": [
        "train_model(create_model(2.191,0.23,-123))"
      ],
      "execution_count": 7,
      "outputs": [
        {
          "output_type": "error",
          "ename": "NameError",
          "evalue": "ignored",
          "traceback": [
            "\u001b[0;31m---------------------------------------------------------------------------\u001b[0m",
            "\u001b[0;31mNameError\u001b[0m                                 Traceback (most recent call last)",
            "\u001b[0;32m<ipython-input-7-2eecfea65365>\u001b[0m in \u001b[0;36m<module>\u001b[0;34m()\u001b[0m\n\u001b[0;32m----> 1\u001b[0;31m \u001b[0mtrain_model\u001b[0m\u001b[0;34m(\u001b[0m\u001b[0mcreate_model\u001b[0m\u001b[0;34m(\u001b[0m\u001b[0;36m2.191\u001b[0m\u001b[0;34m,\u001b[0m\u001b[0;36m0.23\u001b[0m\u001b[0;34m,\u001b[0m\u001b[0;34m-\u001b[0m\u001b[0;36m123\u001b[0m\u001b[0;34m)\u001b[0m\u001b[0;34m)\u001b[0m\u001b[0;34m\u001b[0m\u001b[0;34m\u001b[0m\u001b[0m\n\u001b[0m",
            "\u001b[0;32m<ipython-input-6-57d73f2068d8>\u001b[0m in \u001b[0;36mtrain_model\u001b[0;34m(model)\u001b[0m\n\u001b[1;32m      1\u001b[0m \u001b[0;32mdef\u001b[0m \u001b[0mtrain_model\u001b[0m\u001b[0;34m(\u001b[0m\u001b[0mmodel\u001b[0m\u001b[0;34m)\u001b[0m\u001b[0;34m:\u001b[0m\u001b[0;34m\u001b[0m\u001b[0;34m\u001b[0m\u001b[0m\n\u001b[0;32m----> 2\u001b[0;31m   \u001b[0mhistory\u001b[0m \u001b[0;34m=\u001b[0m \u001b[0mmodel\u001b[0m\u001b[0;34m.\u001b[0m\u001b[0mfit\u001b[0m\u001b[0;34m(\u001b[0m\u001b[0mX\u001b[0m\u001b[0;34m,\u001b[0m\u001b[0my\u001b[0m\u001b[0;34m)\u001b[0m\u001b[0;34m\u001b[0m\u001b[0;34m\u001b[0m\u001b[0m\n\u001b[0m\u001b[1;32m      3\u001b[0m   \u001b[0;32mreturn\u001b[0m \u001b[0maccuracy_score\u001b[0m\u001b[0;34m(\u001b[0m\u001b[0my\u001b[0m\u001b[0;34m,\u001b[0m\u001b[0mmodel\u001b[0m\u001b[0;34m.\u001b[0m\u001b[0mpredict\u001b[0m\u001b[0;34m(\u001b[0m\u001b[0mX\u001b[0m\u001b[0;34m)\u001b[0m\u001b[0;34m)\u001b[0m\u001b[0;34m\u001b[0m\u001b[0;34m\u001b[0m\u001b[0m\n",
            "\u001b[0;31mNameError\u001b[0m: name 'X' is not defined"
          ]
        }
      ]
    },
    {
      "cell_type": "code",
      "metadata": {
        "id": "6baor1wnaAgZ",
        "colab_type": "code",
        "colab": {}
      },
      "source": [
        "def create_population(pop_size):\n",
        "  pop=[]\n",
        "  for i in range(pop_size):\n",
        "    individual=[]\n",
        "    n_nodes = np.random.randint(low=1,high=5)\n",
        "    activation= np.random.randint(low=0,high=2)\n",
        "    dropout = np.random.randint(low=1500,high=3000)\n",
        "    individual.append(n_nodes)\n",
        "    individual.append(activation)\n",
        "    individual.append(dropout)\n",
        "    pop.append(individual)\n",
        "  return np.array(pop,dtype='float32')"
      ],
      "execution_count": 0,
      "outputs": []
    },
    {
      "cell_type": "code",
      "metadata": {
        "id": "J5FM4WJ9bjTl",
        "colab_type": "code",
        "outputId": "991c9c2e-07b3-4ede-82eb-e8d79aab65cf",
        "colab": {
          "base_uri": "https://localhost:8080/",
          "height": 111
        }
      },
      "source": [
        "create_population(5)"
      ],
      "execution_count": 9,
      "outputs": [
        {
          "output_type": "execute_result",
          "data": {
            "text/plain": [
              "array([[3.000e+00, 1.000e+00, 1.805e+03],\n",
              "       [4.000e+00, 1.000e+00, 2.646e+03],\n",
              "       [2.000e+00, 1.000e+00, 1.969e+03],\n",
              "       [3.000e+00, 1.000e+00, 1.893e+03],\n",
              "       [1.000e+00, 1.000e+00, 2.167e+03]], dtype=float32)"
            ]
          },
          "metadata": {
            "tags": []
          },
          "execution_count": 9
        }
      ]
    },
    {
      "cell_type": "code",
      "metadata": {
        "id": "F64xmmCxbl_p",
        "colab_type": "code",
        "colab": {}
      },
      "source": [
        "pop =create_population(50)\n",
        "reserve =pop[:]\n",
        "#print(reserve)\n",
        "opti = HHO(len(pop),1,3,pop)"
      ],
      "execution_count": 0,
      "outputs": []
    },
    {
      "cell_type": "code",
      "metadata": {
        "id": "dUH_HYC2fwRA",
        "colab_type": "code",
        "outputId": "533b24ec-6c7f-4421-e7f3-ed9e55f411ce",
        "colab": {
          "base_uri": "https://localhost:8080/",
          "height": 55
        }
      },
      "source": [
        "optimal_parameters = opti.optimize()"
      ],
      "execution_count": 11,
      "outputs": [
        {
          "output_type": "stream",
          "text": [
            "100%|██████████| 1/1 [00:00<00:00, 76.31it/s]"
          ],
          "name": "stderr"
        },
        {
          "output_type": "stream",
          "text": [
            "\n"
          ],
          "name": "stdout"
        },
        {
          "output_type": "stream",
          "text": [
            "\n"
          ],
          "name": "stderr"
        }
      ]
    },
    {
      "cell_type": "code",
      "metadata": {
        "id": "MpNMv1RLfyab",
        "colab_type": "code",
        "colab": {}
      },
      "source": [
        "param = reserve[optimal_parameters[1]]"
      ],
      "execution_count": 0,
      "outputs": []
    },
    {
      "cell_type": "code",
      "metadata": {
        "id": "mz0JnpinF-nn",
        "colab_type": "code",
        "outputId": "2d989622-02c7-4280-dba4-d584e5a4649f",
        "colab": {
          "base_uri": "https://localhost:8080/",
          "height": 55
        }
      },
      "source": [
        "!git clone https://github.com/bigb0ss/Retail-datasets.git\n",
        "!ls"
      ],
      "execution_count": 15,
      "outputs": [
        {
          "output_type": "stream",
          "text": [
            "fatal: destination path 'Retail-datasets' already exists and is not an empty directory.\n",
            "Retail-datasets  sample_data\n"
          ],
          "name": "stdout"
        }
      ]
    },
    {
      "cell_type": "code",
      "metadata": {
        "id": "LkfFXzcSw562",
        "colab_type": "code",
        "colab": {}
      },
      "source": [
        "data = pd.read_excel('Retail-datasets/Online Retail.xlsx')"
      ],
      "execution_count": 0,
      "outputs": []
    },
    {
      "cell_type": "code",
      "metadata": {
        "id": "ZmJUBIehzkhH",
        "colab_type": "code",
        "outputId": "ae8732dc-ce06-47c6-cc68-d5e2a1cf908f",
        "colab": {
          "base_uri": "https://localhost:8080/",
          "height": 206
        }
      },
      "source": [
        "data.head()"
      ],
      "execution_count": 17,
      "outputs": [
        {
          "output_type": "execute_result",
          "data": {
            "text/html": [
              "<div>\n",
              "<style scoped>\n",
              "    .dataframe tbody tr th:only-of-type {\n",
              "        vertical-align: middle;\n",
              "    }\n",
              "\n",
              "    .dataframe tbody tr th {\n",
              "        vertical-align: top;\n",
              "    }\n",
              "\n",
              "    .dataframe thead th {\n",
              "        text-align: right;\n",
              "    }\n",
              "</style>\n",
              "<table border=\"1\" class=\"dataframe\">\n",
              "  <thead>\n",
              "    <tr style=\"text-align: right;\">\n",
              "      <th></th>\n",
              "      <th>InvoiceNo</th>\n",
              "      <th>StockCode</th>\n",
              "      <th>Description</th>\n",
              "      <th>Quantity</th>\n",
              "      <th>InvoiceDate</th>\n",
              "      <th>UnitPrice</th>\n",
              "      <th>CustomerID</th>\n",
              "      <th>Country</th>\n",
              "    </tr>\n",
              "  </thead>\n",
              "  <tbody>\n",
              "    <tr>\n",
              "      <th>0</th>\n",
              "      <td>536365</td>\n",
              "      <td>85123A</td>\n",
              "      <td>WHITE HANGING HEART T-LIGHT HOLDER</td>\n",
              "      <td>6</td>\n",
              "      <td>2010-12-01 08:26:00</td>\n",
              "      <td>2.55</td>\n",
              "      <td>17850.0</td>\n",
              "      <td>United Kingdom</td>\n",
              "    </tr>\n",
              "    <tr>\n",
              "      <th>1</th>\n",
              "      <td>536365</td>\n",
              "      <td>71053</td>\n",
              "      <td>WHITE METAL LANTERN</td>\n",
              "      <td>6</td>\n",
              "      <td>2010-12-01 08:26:00</td>\n",
              "      <td>3.39</td>\n",
              "      <td>17850.0</td>\n",
              "      <td>United Kingdom</td>\n",
              "    </tr>\n",
              "    <tr>\n",
              "      <th>2</th>\n",
              "      <td>536365</td>\n",
              "      <td>84406B</td>\n",
              "      <td>CREAM CUPID HEARTS COAT HANGER</td>\n",
              "      <td>8</td>\n",
              "      <td>2010-12-01 08:26:00</td>\n",
              "      <td>2.75</td>\n",
              "      <td>17850.0</td>\n",
              "      <td>United Kingdom</td>\n",
              "    </tr>\n",
              "    <tr>\n",
              "      <th>3</th>\n",
              "      <td>536365</td>\n",
              "      <td>84029G</td>\n",
              "      <td>KNITTED UNION FLAG HOT WATER BOTTLE</td>\n",
              "      <td>6</td>\n",
              "      <td>2010-12-01 08:26:00</td>\n",
              "      <td>3.39</td>\n",
              "      <td>17850.0</td>\n",
              "      <td>United Kingdom</td>\n",
              "    </tr>\n",
              "    <tr>\n",
              "      <th>4</th>\n",
              "      <td>536365</td>\n",
              "      <td>84029E</td>\n",
              "      <td>RED WOOLLY HOTTIE WHITE HEART.</td>\n",
              "      <td>6</td>\n",
              "      <td>2010-12-01 08:26:00</td>\n",
              "      <td>3.39</td>\n",
              "      <td>17850.0</td>\n",
              "      <td>United Kingdom</td>\n",
              "    </tr>\n",
              "  </tbody>\n",
              "</table>\n",
              "</div>"
            ],
            "text/plain": [
              "  InvoiceNo StockCode  ... CustomerID         Country\n",
              "0    536365    85123A  ...    17850.0  United Kingdom\n",
              "1    536365     71053  ...    17850.0  United Kingdom\n",
              "2    536365    84406B  ...    17850.0  United Kingdom\n",
              "3    536365    84029G  ...    17850.0  United Kingdom\n",
              "4    536365    84029E  ...    17850.0  United Kingdom\n",
              "\n",
              "[5 rows x 8 columns]"
            ]
          },
          "metadata": {
            "tags": []
          },
          "execution_count": 17
        }
      ]
    },
    {
      "cell_type": "code",
      "metadata": {
        "id": "6U0Nb4W0w-QE",
        "colab_type": "code",
        "outputId": "716216c3-a4d3-4cf3-d8c3-41f5aa227298",
        "colab": {
          "base_uri": "https://localhost:8080/",
          "height": 206
        }
      },
      "source": [
        "print(len(data))\n",
        "data.nunique()"
      ],
      "execution_count": 18,
      "outputs": [
        {
          "output_type": "stream",
          "text": [
            "541909\n"
          ],
          "name": "stdout"
        },
        {
          "output_type": "execute_result",
          "data": {
            "text/plain": [
              "InvoiceNo      25900\n",
              "StockCode       4070\n",
              "Description     4223\n",
              "Quantity         722\n",
              "InvoiceDate    23260\n",
              "UnitPrice       1630\n",
              "CustomerID      4372\n",
              "Country           38\n",
              "dtype: int64"
            ]
          },
          "metadata": {
            "tags": []
          },
          "execution_count": 18
        }
      ]
    },
    {
      "cell_type": "code",
      "metadata": {
        "id": "sYjcrV5YzTKO",
        "colab_type": "code",
        "colab": {}
      },
      "source": [
        "data['Price'] = data['Quantity'] * data['UnitPrice']"
      ],
      "execution_count": 0,
      "outputs": []
    },
    {
      "cell_type": "code",
      "metadata": {
        "id": "enk5MLnC0ghW",
        "colab_type": "code",
        "outputId": "0bb1694d-ac2d-44ef-a3b4-fc5fc2bb197b",
        "colab": {
          "base_uri": "https://localhost:8080/",
          "height": 206
        }
      },
      "source": [
        "data.head()"
      ],
      "execution_count": 20,
      "outputs": [
        {
          "output_type": "execute_result",
          "data": {
            "text/html": [
              "<div>\n",
              "<style scoped>\n",
              "    .dataframe tbody tr th:only-of-type {\n",
              "        vertical-align: middle;\n",
              "    }\n",
              "\n",
              "    .dataframe tbody tr th {\n",
              "        vertical-align: top;\n",
              "    }\n",
              "\n",
              "    .dataframe thead th {\n",
              "        text-align: right;\n",
              "    }\n",
              "</style>\n",
              "<table border=\"1\" class=\"dataframe\">\n",
              "  <thead>\n",
              "    <tr style=\"text-align: right;\">\n",
              "      <th></th>\n",
              "      <th>InvoiceNo</th>\n",
              "      <th>StockCode</th>\n",
              "      <th>Description</th>\n",
              "      <th>Quantity</th>\n",
              "      <th>InvoiceDate</th>\n",
              "      <th>UnitPrice</th>\n",
              "      <th>CustomerID</th>\n",
              "      <th>Country</th>\n",
              "      <th>Price</th>\n",
              "    </tr>\n",
              "  </thead>\n",
              "  <tbody>\n",
              "    <tr>\n",
              "      <th>0</th>\n",
              "      <td>536365</td>\n",
              "      <td>85123A</td>\n",
              "      <td>WHITE HANGING HEART T-LIGHT HOLDER</td>\n",
              "      <td>6</td>\n",
              "      <td>2010-12-01 08:26:00</td>\n",
              "      <td>2.55</td>\n",
              "      <td>17850.0</td>\n",
              "      <td>United Kingdom</td>\n",
              "      <td>15.30</td>\n",
              "    </tr>\n",
              "    <tr>\n",
              "      <th>1</th>\n",
              "      <td>536365</td>\n",
              "      <td>71053</td>\n",
              "      <td>WHITE METAL LANTERN</td>\n",
              "      <td>6</td>\n",
              "      <td>2010-12-01 08:26:00</td>\n",
              "      <td>3.39</td>\n",
              "      <td>17850.0</td>\n",
              "      <td>United Kingdom</td>\n",
              "      <td>20.34</td>\n",
              "    </tr>\n",
              "    <tr>\n",
              "      <th>2</th>\n",
              "      <td>536365</td>\n",
              "      <td>84406B</td>\n",
              "      <td>CREAM CUPID HEARTS COAT HANGER</td>\n",
              "      <td>8</td>\n",
              "      <td>2010-12-01 08:26:00</td>\n",
              "      <td>2.75</td>\n",
              "      <td>17850.0</td>\n",
              "      <td>United Kingdom</td>\n",
              "      <td>22.00</td>\n",
              "    </tr>\n",
              "    <tr>\n",
              "      <th>3</th>\n",
              "      <td>536365</td>\n",
              "      <td>84029G</td>\n",
              "      <td>KNITTED UNION FLAG HOT WATER BOTTLE</td>\n",
              "      <td>6</td>\n",
              "      <td>2010-12-01 08:26:00</td>\n",
              "      <td>3.39</td>\n",
              "      <td>17850.0</td>\n",
              "      <td>United Kingdom</td>\n",
              "      <td>20.34</td>\n",
              "    </tr>\n",
              "    <tr>\n",
              "      <th>4</th>\n",
              "      <td>536365</td>\n",
              "      <td>84029E</td>\n",
              "      <td>RED WOOLLY HOTTIE WHITE HEART.</td>\n",
              "      <td>6</td>\n",
              "      <td>2010-12-01 08:26:00</td>\n",
              "      <td>3.39</td>\n",
              "      <td>17850.0</td>\n",
              "      <td>United Kingdom</td>\n",
              "      <td>20.34</td>\n",
              "    </tr>\n",
              "  </tbody>\n",
              "</table>\n",
              "</div>"
            ],
            "text/plain": [
              "  InvoiceNo StockCode  ...         Country  Price\n",
              "0    536365    85123A  ...  United Kingdom  15.30\n",
              "1    536365     71053  ...  United Kingdom  20.34\n",
              "2    536365    84406B  ...  United Kingdom  22.00\n",
              "3    536365    84029G  ...  United Kingdom  20.34\n",
              "4    536365    84029E  ...  United Kingdom  20.34\n",
              "\n",
              "[5 rows x 9 columns]"
            ]
          },
          "metadata": {
            "tags": []
          },
          "execution_count": 20
        }
      ]
    },
    {
      "cell_type": "code",
      "metadata": {
        "id": "POuknPmo0jvS",
        "colab_type": "code",
        "colab": {}
      },
      "source": [
        "data.dropna(inplace=True)"
      ],
      "execution_count": 0,
      "outputs": []
    },
    {
      "cell_type": "code",
      "metadata": {
        "id": "ds634V6k1Phw",
        "colab_type": "code",
        "colab": {}
      },
      "source": [
        "from sklearn.preprocessing import LabelEncoder\n",
        "labelencoder = LabelEncoder()"
      ],
      "execution_count": 0,
      "outputs": []
    },
    {
      "cell_type": "code",
      "metadata": {
        "id": "UfouT0_d1eDB",
        "colab_type": "code",
        "colab": {}
      },
      "source": [
        "for i in [2,7]:\n",
        "  labelencoder.fit(data.iloc[:,i])\n",
        "  data.iloc[:,i]=labelencoder.transform(data.iloc[:,i])"
      ],
      "execution_count": 0,
      "outputs": []
    },
    {
      "cell_type": "code",
      "metadata": {
        "id": "vEq3jgVH3ixv",
        "colab_type": "code",
        "outputId": "d4338302-5784-4a0e-e596-865df5d9d435",
        "colab": {
          "base_uri": "https://localhost:8080/",
          "height": 206
        }
      },
      "source": [
        "data.head()"
      ],
      "execution_count": 24,
      "outputs": [
        {
          "output_type": "execute_result",
          "data": {
            "text/html": [
              "<div>\n",
              "<style scoped>\n",
              "    .dataframe tbody tr th:only-of-type {\n",
              "        vertical-align: middle;\n",
              "    }\n",
              "\n",
              "    .dataframe tbody tr th {\n",
              "        vertical-align: top;\n",
              "    }\n",
              "\n",
              "    .dataframe thead th {\n",
              "        text-align: right;\n",
              "    }\n",
              "</style>\n",
              "<table border=\"1\" class=\"dataframe\">\n",
              "  <thead>\n",
              "    <tr style=\"text-align: right;\">\n",
              "      <th></th>\n",
              "      <th>InvoiceNo</th>\n",
              "      <th>StockCode</th>\n",
              "      <th>Description</th>\n",
              "      <th>Quantity</th>\n",
              "      <th>InvoiceDate</th>\n",
              "      <th>UnitPrice</th>\n",
              "      <th>CustomerID</th>\n",
              "      <th>Country</th>\n",
              "      <th>Price</th>\n",
              "    </tr>\n",
              "  </thead>\n",
              "  <tbody>\n",
              "    <tr>\n",
              "      <th>0</th>\n",
              "      <td>536365</td>\n",
              "      <td>85123A</td>\n",
              "      <td>3716</td>\n",
              "      <td>6</td>\n",
              "      <td>2010-12-01 08:26:00</td>\n",
              "      <td>2.55</td>\n",
              "      <td>17850.0</td>\n",
              "      <td>35</td>\n",
              "      <td>15.30</td>\n",
              "    </tr>\n",
              "    <tr>\n",
              "      <th>1</th>\n",
              "      <td>536365</td>\n",
              "      <td>71053</td>\n",
              "      <td>3724</td>\n",
              "      <td>6</td>\n",
              "      <td>2010-12-01 08:26:00</td>\n",
              "      <td>3.39</td>\n",
              "      <td>17850.0</td>\n",
              "      <td>35</td>\n",
              "      <td>20.34</td>\n",
              "    </tr>\n",
              "    <tr>\n",
              "      <th>2</th>\n",
              "      <td>536365</td>\n",
              "      <td>84406B</td>\n",
              "      <td>861</td>\n",
              "      <td>8</td>\n",
              "      <td>2010-12-01 08:26:00</td>\n",
              "      <td>2.75</td>\n",
              "      <td>17850.0</td>\n",
              "      <td>35</td>\n",
              "      <td>22.00</td>\n",
              "    </tr>\n",
              "    <tr>\n",
              "      <th>3</th>\n",
              "      <td>536365</td>\n",
              "      <td>84029G</td>\n",
              "      <td>1813</td>\n",
              "      <td>6</td>\n",
              "      <td>2010-12-01 08:26:00</td>\n",
              "      <td>3.39</td>\n",
              "      <td>17850.0</td>\n",
              "      <td>35</td>\n",
              "      <td>20.34</td>\n",
              "    </tr>\n",
              "    <tr>\n",
              "      <th>4</th>\n",
              "      <td>536365</td>\n",
              "      <td>84029E</td>\n",
              "      <td>2776</td>\n",
              "      <td>6</td>\n",
              "      <td>2010-12-01 08:26:00</td>\n",
              "      <td>3.39</td>\n",
              "      <td>17850.0</td>\n",
              "      <td>35</td>\n",
              "      <td>20.34</td>\n",
              "    </tr>\n",
              "  </tbody>\n",
              "</table>\n",
              "</div>"
            ],
            "text/plain": [
              "  InvoiceNo StockCode  Description  ...  CustomerID Country  Price\n",
              "0    536365    85123A         3716  ...     17850.0      35  15.30\n",
              "1    536365     71053         3724  ...     17850.0      35  20.34\n",
              "2    536365    84406B          861  ...     17850.0      35  22.00\n",
              "3    536365    84029G         1813  ...     17850.0      35  20.34\n",
              "4    536365    84029E         2776  ...     17850.0      35  20.34\n",
              "\n",
              "[5 rows x 9 columns]"
            ]
          },
          "metadata": {
            "tags": []
          },
          "execution_count": 24
        }
      ]
    },
    {
      "cell_type": "code",
      "metadata": {
        "id": "18Z_mDog6EzY",
        "colab_type": "code",
        "colab": {}
      },
      "source": [
        "x =data.iloc[:,[2,3,6,7]].values"
      ],
      "execution_count": 0,
      "outputs": []
    },
    {
      "cell_type": "code",
      "metadata": {
        "id": "UlA2K4ih7ACk",
        "colab_type": "code",
        "colab": {}
      },
      "source": [
        "from sklearn.preprocessing import StandardScaler\n",
        "scaler = StandardScaler()\n",
        "X = scaler.fit_transform(x)"
      ],
      "execution_count": 0,
      "outputs": []
    },
    {
      "cell_type": "code",
      "metadata": {
        "id": "7AuRcBK-309G",
        "colab_type": "code",
        "colab": {}
      },
      "source": [
        "y=data.iloc[:,8].values"
      ],
      "execution_count": 0,
      "outputs": []
    },
    {
      "cell_type": "code",
      "metadata": {
        "id": "ojWNyLCc5Db-",
        "colab_type": "code",
        "colab": {}
      },
      "source": [
        "from sklearn.linear_model import LinearRegression"
      ],
      "execution_count": 0,
      "outputs": []
    },
    {
      "cell_type": "code",
      "metadata": {
        "id": "Vy3SpAqI5U1y",
        "colab_type": "code",
        "colab": {}
      },
      "source": [
        "regressor = LinearRegression(n_jobs=5,normalize=True)"
      ],
      "execution_count": 0,
      "outputs": []
    },
    {
      "cell_type": "code",
      "metadata": {
        "id": "R9K6S1GM5gxg",
        "colab_type": "code",
        "outputId": "fec6538d-1c98-43d8-f565-6d8b94e0fc7e",
        "colab": {
          "base_uri": "https://localhost:8080/",
          "height": 36
        }
      },
      "source": [
        "regressor.fit(X,y)"
      ],
      "execution_count": 31,
      "outputs": [
        {
          "output_type": "execute_result",
          "data": {
            "text/plain": [
              "LinearRegression(copy_X=True, fit_intercept=True, n_jobs=5, normalize=True)"
            ]
          },
          "metadata": {
            "tags": []
          },
          "execution_count": 31
        }
      ]
    },
    {
      "cell_type": "code",
      "metadata": {
        "id": "v44jnZOa9ZHU",
        "colab_type": "code",
        "outputId": "754a8387-cab1-4f0c-e4b3-9277064f7cad",
        "colab": {
          "base_uri": "https://localhost:8080/",
          "height": 36
        }
      },
      "source": [
        "y[0]"
      ],
      "execution_count": 32,
      "outputs": [
        {
          "output_type": "execute_result",
          "data": {
            "text/plain": [
              "15.299999999999999"
            ]
          },
          "metadata": {
            "tags": []
          },
          "execution_count": 32
        }
      ]
    },
    {
      "cell_type": "code",
      "metadata": {
        "id": "c-eUg5de9i1b",
        "colab_type": "code",
        "colab": {}
      },
      "source": [
        "from sklearn.svm import LinearSVR"
      ],
      "execution_count": 0,
      "outputs": []
    },
    {
      "cell_type": "code",
      "metadata": {
        "id": "iVMHkd2n96WS",
        "colab_type": "code",
        "colab": {}
      },
      "source": [
        "scr = LinearSVR()"
      ],
      "execution_count": 0,
      "outputs": []
    },
    {
      "cell_type": "code",
      "metadata": {
        "id": "mfEAHWUl9-Lr",
        "colab_type": "code",
        "outputId": "667b8840-7e4f-4c1e-c87e-39415938064c",
        "colab": {
          "base_uri": "https://localhost:8080/",
          "height": 74
        }
      },
      "source": [
        "scr.fit(X,y)"
      ],
      "execution_count": 35,
      "outputs": [
        {
          "output_type": "execute_result",
          "data": {
            "text/plain": [
              "LinearSVR(C=1.0, dual=True, epsilon=0.0, fit_intercept=True,\n",
              "          intercept_scaling=1.0, loss='epsilon_insensitive', max_iter=1000,\n",
              "          random_state=None, tol=0.0001, verbose=0)"
            ]
          },
          "metadata": {
            "tags": []
          },
          "execution_count": 35
        }
      ]
    },
    {
      "cell_type": "code",
      "metadata": {
        "id": "GElc8PxqHJ6a",
        "colab_type": "code",
        "outputId": "e494270e-46bd-4b16-9854-d298caf6136b",
        "colab": {
          "base_uri": "https://localhost:8080/",
          "height": 92
        }
      },
      "source": [
        "print('parameters : ',param)\n",
        "\n",
        "eff_model = create_model(param[0],param[1],param[2])\n",
        "eff_model.fit(X,y)"
      ],
      "execution_count": 36,
      "outputs": [
        {
          "output_type": "stream",
          "text": [
            "parameters :  [   2.639544     2.0104394 1313.2947   ]\n"
          ],
          "name": "stdout"
        },
        {
          "output_type": "execute_result",
          "data": {
            "text/plain": [
              "LinearSVR(C=2.639544, dual=True, epsilon=0.0, fit_intercept=True,\n",
              "          intercept_scaling=1.0, loss='epsilon_insensitive', max_iter=1313,\n",
              "          random_state=None, tol=0.0001, verbose=0)"
            ]
          },
          "metadata": {
            "tags": []
          },
          "execution_count": 36
        }
      ]
    },
    {
      "cell_type": "code",
      "metadata": {
        "id": "hyCkYCys-LU0",
        "colab_type": "code",
        "outputId": "67a4aacb-c475-43f3-8c39-b989b05c94f2",
        "colab": {
          "base_uri": "https://localhost:8080/",
          "height": 55
        }
      },
      "source": [
        "from sklearn.metrics import mean_squared_error\n",
        "\n",
        "print(\"Error produced by model with Optimal parameters  : \",mean_squared_error(y,eff_model.predict(X)))\n",
        "\n",
        "print(\"Error produced by model with default parameters  : \",mean_squared_error(y,scr.predict(X)))"
      ],
      "execution_count": 37,
      "outputs": [
        {
          "output_type": "stream",
          "text": [
            "Error produced by model with Optimal parameters  :  47125.69424677295\n",
            "Error produced by model with default parameters  :  47097.77274978303\n"
          ],
          "name": "stdout"
        }
      ]
    },
    {
      "cell_type": "markdown",
      "metadata": {
        "id": "eX3XKjlPJHL5",
        "colab_type": "text"
      },
      "source": [
        "# Men-shoe-price"
      ]
    },
    {
      "cell_type": "code",
      "metadata": {
        "id": "WHkvnxMAHXzV",
        "colab_type": "code",
        "outputId": "e0f9c582-6409-46c2-debe-221bff1eea60",
        "colab": {
          "base_uri": "https://localhost:8080/",
          "height": 112
        }
      },
      "source": [
        "data = pd.read_csv('Retail-datasets/men-shoe-price.csv',error_bad_lines=False)"
      ],
      "execution_count": 38,
      "outputs": [
        {
          "output_type": "stream",
          "text": [
            "b'Skipping line 251: expected 48 fields, saw 49\\nSkipping line 444: expected 48 fields, saw 50\\nSkipping line 847: expected 48 fields, saw 49\\nSkipping line 848: expected 48 fields, saw 49\\nSkipping line 1018: expected 48 fields, saw 49\\nSkipping line 1575: expected 48 fields, saw 51\\nSkipping line 2133: expected 48 fields, saw 49\\nSkipping line 2922: expected 48 fields, saw 51\\nSkipping line 3777: expected 48 fields, saw 51\\nSkipping line 4057: expected 48 fields, saw 49\\nSkipping line 4239: expected 48 fields, saw 49\\nSkipping line 4240: expected 48 fields, saw 49\\nSkipping line 4384: expected 48 fields, saw 49\\nSkipping line 4385: expected 48 fields, saw 49\\nSkipping line 5388: expected 48 fields, saw 49\\nSkipping line 5480: expected 48 fields, saw 49\\nSkipping line 5481: expected 48 fields, saw 49\\nSkipping line 5907: expected 48 fields, saw 50\\nSkipping line 5908: expected 48 fields, saw 50\\nSkipping line 6600: expected 48 fields, saw 49\\nSkipping line 6601: expected 48 fields, saw 49\\nSkipping line 6602: expected 48 fields, saw 49\\nSkipping line 6603: expected 48 fields, saw 49\\nSkipping line 7227: expected 48 fields, saw 49\\nSkipping line 7228: expected 48 fields, saw 49\\nSkipping line 7229: expected 48 fields, saw 49\\nSkipping line 7267: expected 48 fields, saw 51\\nSkipping line 9025: expected 48 fields, saw 49\\nSkipping line 9026: expected 48 fields, saw 49\\nSkipping line 9027: expected 48 fields, saw 49\\nSkipping line 9417: expected 48 fields, saw 50\\nSkipping line 10815: expected 48 fields, saw 49\\nSkipping line 11034: expected 48 fields, saw 50\\nSkipping line 11059: expected 48 fields, saw 49\\nSkipping line 11060: expected 48 fields, saw 49\\nSkipping line 11339: expected 48 fields, saw 50\\nSkipping line 11357: expected 48 fields, saw 49\\nSkipping line 11358: expected 48 fields, saw 49\\nSkipping line 11646: expected 48 fields, saw 49\\nSkipping line 11647: expected 48 fields, saw 49\\nSkipping line 12161: expected 48 fields, saw 50\\nSkipping line 12307: expected 48 fields, saw 49\\nSkipping line 12308: expected 48 fields, saw 49\\nSkipping line 12614: expected 48 fields, saw 49\\nSkipping line 12615: expected 48 fields, saw 49\\nSkipping line 12616: expected 48 fields, saw 49\\nSkipping line 12617: expected 48 fields, saw 49\\nSkipping line 12618: expected 48 fields, saw 49\\nSkipping line 12619: expected 48 fields, saw 49\\nSkipping line 12620: expected 48 fields, saw 49\\nSkipping line 12621: expected 48 fields, saw 49\\nSkipping line 12622: expected 48 fields, saw 49\\nSkipping line 12623: expected 48 fields, saw 49\\nSkipping line 12799: expected 48 fields, saw 49\\nSkipping line 14200: expected 48 fields, saw 49\\nSkipping line 14595: expected 48 fields, saw 49\\n'\n",
            "b'Skipping line 16747: expected 48 fields, saw 49\\nSkipping line 16748: expected 48 fields, saw 49\\nSkipping line 16749: expected 48 fields, saw 49\\nSkipping line 16750: expected 48 fields, saw 49\\nSkipping line 16751: expected 48 fields, saw 49\\nSkipping line 16752: expected 48 fields, saw 49\\nSkipping line 16753: expected 48 fields, saw 49\\nSkipping line 17318: expected 48 fields, saw 49\\nSkipping line 17319: expected 48 fields, saw 49\\nSkipping line 17766: expected 48 fields, saw 49\\nSkipping line 17767: expected 48 fields, saw 49\\nSkipping line 18000: expected 48 fields, saw 52\\nSkipping line 18001: expected 48 fields, saw 52\\nSkipping line 18308: expected 48 fields, saw 51\\nSkipping line 19223: expected 48 fields, saw 52\\nSkipping line 19224: expected 48 fields, saw 52\\n'\n",
            "/usr/local/lib/python3.6/dist-packages/IPython/core/interactiveshell.py:2718: DtypeWarning: Columns (20,21,25,29,30,36) have mixed types. Specify dtype option on import or set low_memory=False.\n",
            "  interactivity=interactivity, compiler=compiler, result=result)\n"
          ],
          "name": "stderr"
        }
      ]
    },
    {
      "cell_type": "code",
      "metadata": {
        "id": "JVloemOUJfHR",
        "colab_type": "code",
        "colab": {}
      },
      "source": [
        "data.head()\n",
        "columns=['id','brand','manufacturerNumber','name','prices.amountMin','prices.amountMax','prices.currency','prices.merchant']"
      ],
      "execution_count": 0,
      "outputs": []
    },
    {
      "cell_type": "code",
      "metadata": {
        "id": "TFFStYt3JzZH",
        "colab_type": "code",
        "colab": {}
      },
      "source": [
        "data=data.loc[:,columns]"
      ],
      "execution_count": 0,
      "outputs": []
    },
    {
      "cell_type": "code",
      "metadata": {
        "id": "ylXv2Oa7LTeW",
        "colab_type": "code",
        "outputId": "efb2aa2d-c75a-4f9c-f4a1-b15f0aeef561",
        "colab": {
          "base_uri": "https://localhost:8080/",
          "height": 293
        }
      },
      "source": [
        "data.head()"
      ],
      "execution_count": 41,
      "outputs": [
        {
          "output_type": "execute_result",
          "data": {
            "text/html": [
              "<div>\n",
              "<style scoped>\n",
              "    .dataframe tbody tr th:only-of-type {\n",
              "        vertical-align: middle;\n",
              "    }\n",
              "\n",
              "    .dataframe tbody tr th {\n",
              "        vertical-align: top;\n",
              "    }\n",
              "\n",
              "    .dataframe thead th {\n",
              "        text-align: right;\n",
              "    }\n",
              "</style>\n",
              "<table border=\"1\" class=\"dataframe\">\n",
              "  <thead>\n",
              "    <tr style=\"text-align: right;\">\n",
              "      <th></th>\n",
              "      <th>id</th>\n",
              "      <th>brand</th>\n",
              "      <th>manufacturerNumber</th>\n",
              "      <th>name</th>\n",
              "      <th>prices.amountMin</th>\n",
              "      <th>prices.amountMax</th>\n",
              "      <th>prices.currency</th>\n",
              "      <th>prices.merchant</th>\n",
              "    </tr>\n",
              "  </thead>\n",
              "  <tbody>\n",
              "    <tr>\n",
              "      <th>0</th>\n",
              "      <td>AVpfHrJ6ilAPnD_xVXOI</td>\n",
              "      <td>Josmo</td>\n",
              "      <td>8190-W-NAVY-7.5</td>\n",
              "      <td>Josmo 8190 Plain Infant Walking Shoes, Navy - ...</td>\n",
              "      <td>39.89</td>\n",
              "      <td>39.89</td>\n",
              "      <td>USD</td>\n",
              "      <td>NaN</td>\n",
              "    </tr>\n",
              "    <tr>\n",
              "      <th>1</th>\n",
              "      <td>AVpfHrJ6ilAPnD_xVXOI</td>\n",
              "      <td>Josmo</td>\n",
              "      <td>8190-W-NAVY-7.5</td>\n",
              "      <td>Josmo 8190 Plain Infant Walking Shoes, Navy - ...</td>\n",
              "      <td>51.99</td>\n",
              "      <td>51.99</td>\n",
              "      <td>USD</td>\n",
              "      <td>UnbeatableSale - Walmart.com</td>\n",
              "    </tr>\n",
              "    <tr>\n",
              "      <th>2</th>\n",
              "      <td>AVpfHsWP1cnluZ0-eVZ7</td>\n",
              "      <td>SERVUS BY HONEYWELL</td>\n",
              "      <td>ZSR101BLMLG</td>\n",
              "      <td>Servus By Honeywell Shoe Studs Zsr101blmlg</td>\n",
              "      <td>40.02</td>\n",
              "      <td>40.02</td>\n",
              "      <td>USD</td>\n",
              "      <td>SIM Supply Inc - Walmart.com</td>\n",
              "    </tr>\n",
              "    <tr>\n",
              "      <th>3</th>\n",
              "      <td>AVpfHsWP1cnluZ0-eVZ7</td>\n",
              "      <td>SERVUS BY HONEYWELL</td>\n",
              "      <td>ZSR101BLMLG</td>\n",
              "      <td>Servus By Honeywell Shoe Studs Zsr101blmlg</td>\n",
              "      <td>50.31</td>\n",
              "      <td>50.31</td>\n",
              "      <td>USD</td>\n",
              "      <td>SIM Supply Inc - Walmart.com</td>\n",
              "    </tr>\n",
              "    <tr>\n",
              "      <th>4</th>\n",
              "      <td>AVpfHsWP1cnluZ0-eVZ7</td>\n",
              "      <td>SERVUS BY HONEYWELL</td>\n",
              "      <td>ZSR101BLMLG</td>\n",
              "      <td>Servus By Honeywell Shoe Studs Zsr101blmlg</td>\n",
              "      <td>46.26</td>\n",
              "      <td>46.26</td>\n",
              "      <td>USD</td>\n",
              "      <td>SIM Supply Inc - Walmart.com</td>\n",
              "    </tr>\n",
              "  </tbody>\n",
              "</table>\n",
              "</div>"
            ],
            "text/plain": [
              "                     id  ...               prices.merchant\n",
              "0  AVpfHrJ6ilAPnD_xVXOI  ...                           NaN\n",
              "1  AVpfHrJ6ilAPnD_xVXOI  ...  UnbeatableSale - Walmart.com\n",
              "2  AVpfHsWP1cnluZ0-eVZ7  ...  SIM Supply Inc - Walmart.com\n",
              "3  AVpfHsWP1cnluZ0-eVZ7  ...  SIM Supply Inc - Walmart.com\n",
              "4  AVpfHsWP1cnluZ0-eVZ7  ...  SIM Supply Inc - Walmart.com\n",
              "\n",
              "[5 rows x 8 columns]"
            ]
          },
          "metadata": {
            "tags": []
          },
          "execution_count": 41
        }
      ]
    },
    {
      "cell_type": "code",
      "metadata": {
        "id": "UG6WFnSiMolu",
        "colab_type": "code",
        "colab": {}
      },
      "source": [
        "data.dropna(inplace=True)"
      ],
      "execution_count": 0,
      "outputs": []
    },
    {
      "cell_type": "code",
      "metadata": {
        "id": "NtI8saNRLuwK",
        "colab_type": "code",
        "outputId": "eed7f758-04c3-49ca-b8b3-fef9a65a1ae4",
        "colab": {
          "base_uri": "https://localhost:8080/",
          "height": 187
        }
      },
      "source": [
        "data.nunique()"
      ],
      "execution_count": 43,
      "outputs": [
        {
          "output_type": "execute_result",
          "data": {
            "text/plain": [
              "id                    5605\n",
              "brand                 1198\n",
              "manufacturerNumber    5586\n",
              "name                  5370\n",
              "prices.amountMin      4844\n",
              "prices.amountMax      4774\n",
              "prices.currency          5\n",
              "prices.merchant        548\n",
              "dtype: int64"
            ]
          },
          "metadata": {
            "tags": []
          },
          "execution_count": 43
        }
      ]
    },
    {
      "cell_type": "code",
      "metadata": {
        "id": "3Qt32qsgMIRw",
        "colab_type": "code",
        "colab": {}
      },
      "source": [
        "encode_list=[0,1,2,3,6,7]\n",
        "for i in encode_list:\n",
        "  labelencoder.fit(data.iloc[:,i])\n",
        "  data.iloc[:,i]=labelencoder.transform(data.iloc[:,i])"
      ],
      "execution_count": 0,
      "outputs": []
    },
    {
      "cell_type": "code",
      "metadata": {
        "id": "z45oJim5MhOV",
        "colab_type": "code",
        "outputId": "97616794-f0dc-4050-9efb-49bddd7b8f83",
        "colab": {
          "base_uri": "https://localhost:8080/",
          "height": 206
        }
      },
      "source": [
        "data.head()"
      ],
      "execution_count": 45,
      "outputs": [
        {
          "output_type": "execute_result",
          "data": {
            "text/html": [
              "<div>\n",
              "<style scoped>\n",
              "    .dataframe tbody tr th:only-of-type {\n",
              "        vertical-align: middle;\n",
              "    }\n",
              "\n",
              "    .dataframe tbody tr th {\n",
              "        vertical-align: top;\n",
              "    }\n",
              "\n",
              "    .dataframe thead th {\n",
              "        text-align: right;\n",
              "    }\n",
              "</style>\n",
              "<table border=\"1\" class=\"dataframe\">\n",
              "  <thead>\n",
              "    <tr style=\"text-align: right;\">\n",
              "      <th></th>\n",
              "      <th>id</th>\n",
              "      <th>brand</th>\n",
              "      <th>manufacturerNumber</th>\n",
              "      <th>name</th>\n",
              "      <th>prices.amountMin</th>\n",
              "      <th>prices.amountMax</th>\n",
              "      <th>prices.currency</th>\n",
              "      <th>prices.merchant</th>\n",
              "    </tr>\n",
              "  </thead>\n",
              "  <tbody>\n",
              "    <tr>\n",
              "      <th>1</th>\n",
              "      <td>2045</td>\n",
              "      <td>544</td>\n",
              "      <td>2378</td>\n",
              "      <td>2097</td>\n",
              "      <td>51.99</td>\n",
              "      <td>51.99</td>\n",
              "      <td>4</td>\n",
              "      <td>421</td>\n",
              "    </tr>\n",
              "    <tr>\n",
              "      <th>2</th>\n",
              "      <td>2047</td>\n",
              "      <td>912</td>\n",
              "      <td>5400</td>\n",
              "      <td>4342</td>\n",
              "      <td>40.02</td>\n",
              "      <td>40.02</td>\n",
              "      <td>4</td>\n",
              "      <td>311</td>\n",
              "    </tr>\n",
              "    <tr>\n",
              "      <th>3</th>\n",
              "      <td>2047</td>\n",
              "      <td>912</td>\n",
              "      <td>5400</td>\n",
              "      <td>4342</td>\n",
              "      <td>50.31</td>\n",
              "      <td>50.31</td>\n",
              "      <td>4</td>\n",
              "      <td>311</td>\n",
              "    </tr>\n",
              "    <tr>\n",
              "      <th>4</th>\n",
              "      <td>2047</td>\n",
              "      <td>912</td>\n",
              "      <td>5400</td>\n",
              "      <td>4342</td>\n",
              "      <td>46.26</td>\n",
              "      <td>46.26</td>\n",
              "      <td>4</td>\n",
              "      <td>311</td>\n",
              "    </tr>\n",
              "    <tr>\n",
              "      <th>5</th>\n",
              "      <td>2047</td>\n",
              "      <td>912</td>\n",
              "      <td>5400</td>\n",
              "      <td>4342</td>\n",
              "      <td>55.99</td>\n",
              "      <td>55.99</td>\n",
              "      <td>4</td>\n",
              "      <td>311</td>\n",
              "    </tr>\n",
              "  </tbody>\n",
              "</table>\n",
              "</div>"
            ],
            "text/plain": [
              "     id  brand  ...  prices.currency  prices.merchant\n",
              "1  2045    544  ...                4              421\n",
              "2  2047    912  ...                4              311\n",
              "3  2047    912  ...                4              311\n",
              "4  2047    912  ...                4              311\n",
              "5  2047    912  ...                4              311\n",
              "\n",
              "[5 rows x 8 columns]"
            ]
          },
          "metadata": {
            "tags": []
          },
          "execution_count": 45
        }
      ]
    },
    {
      "cell_type": "code",
      "metadata": {
        "id": "P9Q7eyxIM24Q",
        "colab_type": "code",
        "colab": {}
      },
      "source": [
        "X = data.iloc[:,[0,1,2,3,6,7]].values\n",
        "y= data.iloc[:,5].values\n",
        "X=scaler.fit_transform(X)"
      ],
      "execution_count": 0,
      "outputs": []
    },
    {
      "cell_type": "code",
      "metadata": {
        "id": "ysGSEw2yNpxb",
        "colab_type": "code",
        "outputId": "3135f1af-5070-4515-9a8f-31af813c5b43",
        "colab": {
          "base_uri": "https://localhost:8080/",
          "height": 74
        }
      },
      "source": [
        "scr.fit(X,y)"
      ],
      "execution_count": 47,
      "outputs": [
        {
          "output_type": "execute_result",
          "data": {
            "text/plain": [
              "LinearSVR(C=1.0, dual=True, epsilon=0.0, fit_intercept=True,\n",
              "          intercept_scaling=1.0, loss='epsilon_insensitive', max_iter=1000,\n",
              "          random_state=None, tol=0.0001, verbose=0)"
            ]
          },
          "metadata": {
            "tags": []
          },
          "execution_count": 47
        }
      ]
    },
    {
      "cell_type": "code",
      "metadata": {
        "id": "gmNFA7A0Nv0a",
        "colab_type": "code",
        "outputId": "d3065bd6-cf6a-49af-a2ce-f2e67058a41d",
        "colab": {
          "base_uri": "https://localhost:8080/",
          "height": 74
        }
      },
      "source": [
        "eff_model.fit(X,y)"
      ],
      "execution_count": 48,
      "outputs": [
        {
          "output_type": "execute_result",
          "data": {
            "text/plain": [
              "LinearSVR(C=2.639544, dual=True, epsilon=0.0, fit_intercept=True,\n",
              "          intercept_scaling=1.0, loss='epsilon_insensitive', max_iter=1313,\n",
              "          random_state=None, tol=0.0001, verbose=0)"
            ]
          },
          "metadata": {
            "tags": []
          },
          "execution_count": 48
        }
      ]
    },
    {
      "cell_type": "code",
      "metadata": {
        "id": "zmLf9cMlN08O",
        "colab_type": "code",
        "outputId": "8453d519-9eaa-4cdd-8f31-df542e88fea4",
        "colab": {
          "base_uri": "https://localhost:8080/",
          "height": 55
        }
      },
      "source": [
        "print(\"Error produced by model with Optimal parameters  : \",mean_squared_error(y,eff_model.predict(X)))\n",
        "\n",
        "print(\"Error produced by model with default parameters  : \",mean_squared_error(y,scr.predict(X)))"
      ],
      "execution_count": 49,
      "outputs": [
        {
          "output_type": "stream",
          "text": [
            "Error produced by model with Optimal parameters  :  97892.43168842036\n",
            "Error produced by model with default parameters  :  98016.93296719858\n"
          ],
          "name": "stdout"
        }
      ]
    },
    {
      "cell_type": "markdown",
      "metadata": {
        "id": "uC4Cqr1VS9Tq",
        "colab_type": "text"
      },
      "source": [
        "# Women Shoe Price"
      ]
    },
    {
      "cell_type": "code",
      "metadata": {
        "id": "v-6nLgZyOA-m",
        "colab_type": "code",
        "colab": {
          "base_uri": "https://localhost:8080/",
          "height": 75
        },
        "outputId": "b4546eff-7561-4c13-f85d-22cb2357b28e"
      },
      "source": [
        "data = pd.read_csv('Retail-datasets/datafiniti-womens-shoe-prices/datafiniti-womens-shoe-prices/7003_1.csv')"
      ],
      "execution_count": 50,
      "outputs": [
        {
          "output_type": "stream",
          "text": [
            "/usr/local/lib/python3.6/dist-packages/IPython/core/interactiveshell.py:2718: DtypeWarning: Columns (25,36,39,44) have mixed types. Specify dtype option on import or set low_memory=False.\n",
            "  interactivity=interactivity, compiler=compiler, result=result)\n"
          ],
          "name": "stderr"
        }
      ]
    },
    {
      "cell_type": "code",
      "metadata": {
        "id": "RNrQfrBUUEOJ",
        "colab_type": "code",
        "colab": {
          "base_uri": "https://localhost:8080/",
          "height": 730
        },
        "outputId": "4008468c-07e0-4781-a4de-95aae03651c9"
      },
      "source": [
        "data.head()"
      ],
      "execution_count": 51,
      "outputs": [
        {
          "output_type": "execute_result",
          "data": {
            "text/html": [
              "<div>\n",
              "<style scoped>\n",
              "    .dataframe tbody tr th:only-of-type {\n",
              "        vertical-align: middle;\n",
              "    }\n",
              "\n",
              "    .dataframe tbody tr th {\n",
              "        vertical-align: top;\n",
              "    }\n",
              "\n",
              "    .dataframe thead th {\n",
              "        text-align: right;\n",
              "    }\n",
              "</style>\n",
              "<table border=\"1\" class=\"dataframe\">\n",
              "  <thead>\n",
              "    <tr style=\"text-align: right;\">\n",
              "      <th></th>\n",
              "      <th>id</th>\n",
              "      <th>asins</th>\n",
              "      <th>brand</th>\n",
              "      <th>categories</th>\n",
              "      <th>colors</th>\n",
              "      <th>count</th>\n",
              "      <th>dateAdded</th>\n",
              "      <th>dateUpdated</th>\n",
              "      <th>descriptions</th>\n",
              "      <th>dimension</th>\n",
              "      <th>ean</th>\n",
              "      <th>features</th>\n",
              "      <th>flavors</th>\n",
              "      <th>imageURLs</th>\n",
              "      <th>isbn</th>\n",
              "      <th>keys</th>\n",
              "      <th>manufacturer</th>\n",
              "      <th>manufacturerNumber</th>\n",
              "      <th>merchants</th>\n",
              "      <th>name</th>\n",
              "      <th>prices.amountMin</th>\n",
              "      <th>prices.amountMax</th>\n",
              "      <th>prices.availability</th>\n",
              "      <th>prices.color</th>\n",
              "      <th>prices.condition</th>\n",
              "      <th>prices.count</th>\n",
              "      <th>prices.currency</th>\n",
              "      <th>prices.dateAdded</th>\n",
              "      <th>prices.dateSeen</th>\n",
              "      <th>prices.flavor</th>\n",
              "      <th>prices.isSale</th>\n",
              "      <th>prices.merchant</th>\n",
              "      <th>prices.offer</th>\n",
              "      <th>prices.returnPolicy</th>\n",
              "      <th>prices.shipping</th>\n",
              "      <th>prices.size</th>\n",
              "      <th>prices.source</th>\n",
              "      <th>prices.sourceURLs</th>\n",
              "      <th>prices.warranty</th>\n",
              "      <th>quantities</th>\n",
              "      <th>reviews</th>\n",
              "      <th>sizes</th>\n",
              "      <th>skus</th>\n",
              "      <th>sourceURLs</th>\n",
              "      <th>upc</th>\n",
              "      <th>websiteIDs</th>\n",
              "      <th>weight</th>\n",
              "    </tr>\n",
              "  </thead>\n",
              "  <tbody>\n",
              "    <tr>\n",
              "      <th>0</th>\n",
              "      <td>AVpfBXx21cnluZ0-cKxs</td>\n",
              "      <td>NaN</td>\n",
              "      <td>Zoot</td>\n",
              "      <td>Shoes,Clothing,Women's Shoes,All Women's Shoes</td>\n",
              "      <td>Blue,Multicolor</td>\n",
              "      <td>NaN</td>\n",
              "      <td>2016-11-11T09:49:00Z</td>\n",
              "      <td>2016-11-11T09:49:00Z</td>\n",
              "      <td>[{\"dateSeen\":[\"2016-11-11T09:49:00Z\"],\"sourceU...</td>\n",
              "      <td>NaN</td>\n",
              "      <td>NaN</td>\n",
              "      <td>[{\"key\":\"Season\",\"value\":[\"All-Season\"]},{\"key...</td>\n",
              "      <td>NaN</td>\n",
              "      <td>https://i5.walmartimages.com/asr/e04c07b2-5222...</td>\n",
              "      <td>NaN</td>\n",
              "      <td>zoot/z130103201090</td>\n",
              "      <td>Zoot</td>\n",
              "      <td>Z130103201090</td>\n",
              "      <td>[{\"dateSeen\":[\"2016-11-11T09:49:00Z\"],\"name\":\"...</td>\n",
              "      <td>Zoot Tt Trainer 2.0   Round Toe Synthetic  Sne...</td>\n",
              "      <td>71.99</td>\n",
              "      <td>71.99</td>\n",
              "      <td>NaN</td>\n",
              "      <td>NaN</td>\n",
              "      <td>NaN</td>\n",
              "      <td>NaN</td>\n",
              "      <td>USD</td>\n",
              "      <td>2016-11-11T09:49:00Z</td>\n",
              "      <td>2016-11-02T00:00:00Z</td>\n",
              "      <td>NaN</td>\n",
              "      <td>TRUE</td>\n",
              "      <td>NaN</td>\n",
              "      <td>CLEARANCE USD 178.01</td>\n",
              "      <td>NaN</td>\n",
              "      <td>NaN</td>\n",
              "      <td>NaN</td>\n",
              "      <td>NaN</td>\n",
              "      <td>https://www.walmart.com/ip/Zoot-TT-TRAINER-2.0...</td>\n",
              "      <td>NaN</td>\n",
              "      <td>NaN</td>\n",
              "      <td>NaN</td>\n",
              "      <td>10,9</td>\n",
              "      <td>NaN</td>\n",
              "      <td>https://www.walmart.com/ip/Zoot-TT-TRAINER-2.0...</td>\n",
              "      <td>NaN</td>\n",
              "      <td>NaN</td>\n",
              "      <td>NaN</td>\n",
              "    </tr>\n",
              "    <tr>\n",
              "      <th>1</th>\n",
              "      <td>AVpfBXx21cnluZ0-cKxs</td>\n",
              "      <td>NaN</td>\n",
              "      <td>Zoot</td>\n",
              "      <td>Shoes,Clothing,Women's Shoes,All Women's Shoes</td>\n",
              "      <td>Blue,Multicolor</td>\n",
              "      <td>NaN</td>\n",
              "      <td>2016-11-11T09:49:00Z</td>\n",
              "      <td>2016-11-11T09:49:00Z</td>\n",
              "      <td>[{\"dateSeen\":[\"2016-11-11T09:49:00Z\"],\"sourceU...</td>\n",
              "      <td>NaN</td>\n",
              "      <td>NaN</td>\n",
              "      <td>[{\"key\":\"Season\",\"value\":[\"All-Season\"]},{\"key...</td>\n",
              "      <td>NaN</td>\n",
              "      <td>https://i5.walmartimages.com/asr/e04c07b2-5222...</td>\n",
              "      <td>NaN</td>\n",
              "      <td>zoot/z130103201090</td>\n",
              "      <td>Zoot</td>\n",
              "      <td>Z130103201090</td>\n",
              "      <td>[{\"dateSeen\":[\"2016-11-11T09:49:00Z\"],\"name\":\"...</td>\n",
              "      <td>Zoot Tt Trainer 2.0   Round Toe Synthetic  Sne...</td>\n",
              "      <td>250</td>\n",
              "      <td>250</td>\n",
              "      <td>NaN</td>\n",
              "      <td>NaN</td>\n",
              "      <td>new</td>\n",
              "      <td>NaN</td>\n",
              "      <td>USD</td>\n",
              "      <td>2016-11-11T09:49:00Z</td>\n",
              "      <td>2016-10-27T00:00:00Z</td>\n",
              "      <td>NaN</td>\n",
              "      <td>FALSE</td>\n",
              "      <td>ApparelSave - Walmart.com</td>\n",
              "      <td>CLEARANCE USD 178.01</td>\n",
              "      <td>NaN</td>\n",
              "      <td>NaN</td>\n",
              "      <td>NaN</td>\n",
              "      <td>NaN</td>\n",
              "      <td>https://www.walmart.com/ip/Zoot-TT-TRAINER-2.0...</td>\n",
              "      <td>NaN</td>\n",
              "      <td>NaN</td>\n",
              "      <td>NaN</td>\n",
              "      <td>10,9</td>\n",
              "      <td>NaN</td>\n",
              "      <td>https://www.walmart.com/ip/Zoot-TT-TRAINER-2.0...</td>\n",
              "      <td>NaN</td>\n",
              "      <td>NaN</td>\n",
              "      <td>NaN</td>\n",
              "    </tr>\n",
              "    <tr>\n",
              "      <th>2</th>\n",
              "      <td>AVpfBXx21cnluZ0-cKxs</td>\n",
              "      <td>NaN</td>\n",
              "      <td>Zoot</td>\n",
              "      <td>Shoes,Clothing,Women's Shoes,All Women's Shoes</td>\n",
              "      <td>Blue,Multicolor</td>\n",
              "      <td>NaN</td>\n",
              "      <td>2016-11-11T09:49:00Z</td>\n",
              "      <td>2016-11-11T09:49:00Z</td>\n",
              "      <td>[{\"dateSeen\":[\"2016-11-11T09:49:00Z\"],\"sourceU...</td>\n",
              "      <td>NaN</td>\n",
              "      <td>NaN</td>\n",
              "      <td>[{\"key\":\"Season\",\"value\":[\"All-Season\"]},{\"key...</td>\n",
              "      <td>NaN</td>\n",
              "      <td>https://i5.walmartimages.com/asr/e04c07b2-5222...</td>\n",
              "      <td>NaN</td>\n",
              "      <td>zoot/z130103201090</td>\n",
              "      <td>Zoot</td>\n",
              "      <td>Z130103201090</td>\n",
              "      <td>[{\"dateSeen\":[\"2016-11-11T09:49:00Z\"],\"name\":\"...</td>\n",
              "      <td>Zoot Tt Trainer 2.0   Round Toe Synthetic  Sne...</td>\n",
              "      <td>75.99</td>\n",
              "      <td>75.99</td>\n",
              "      <td>NaN</td>\n",
              "      <td>NaN</td>\n",
              "      <td>new</td>\n",
              "      <td>NaN</td>\n",
              "      <td>USD</td>\n",
              "      <td>2016-11-11T09:49:00Z</td>\n",
              "      <td>2016-10-27T00:00:00Z</td>\n",
              "      <td>NaN</td>\n",
              "      <td>TRUE</td>\n",
              "      <td>ApparelSave - Walmart.com</td>\n",
              "      <td>CLEARANCE USD 174.01</td>\n",
              "      <td>NaN</td>\n",
              "      <td>NaN</td>\n",
              "      <td>NaN</td>\n",
              "      <td>NaN</td>\n",
              "      <td>https://www.walmart.com/ip/Zoot-TT-TRAINER-2.0...</td>\n",
              "      <td>NaN</td>\n",
              "      <td>NaN</td>\n",
              "      <td>NaN</td>\n",
              "      <td>10,9</td>\n",
              "      <td>NaN</td>\n",
              "      <td>https://www.walmart.com/ip/Zoot-TT-TRAINER-2.0...</td>\n",
              "      <td>NaN</td>\n",
              "      <td>NaN</td>\n",
              "      <td>NaN</td>\n",
              "    </tr>\n",
              "    <tr>\n",
              "      <th>3</th>\n",
              "      <td>AVpfBXx21cnluZ0-cKxs</td>\n",
              "      <td>NaN</td>\n",
              "      <td>Zoot</td>\n",
              "      <td>Shoes,Clothing,Women's Shoes,All Women's Shoes</td>\n",
              "      <td>Blue,Multicolor</td>\n",
              "      <td>NaN</td>\n",
              "      <td>2016-11-11T09:49:00Z</td>\n",
              "      <td>2016-11-11T09:49:00Z</td>\n",
              "      <td>[{\"dateSeen\":[\"2016-11-11T09:49:00Z\"],\"sourceU...</td>\n",
              "      <td>NaN</td>\n",
              "      <td>NaN</td>\n",
              "      <td>[{\"key\":\"Season\",\"value\":[\"All-Season\"]},{\"key...</td>\n",
              "      <td>NaN</td>\n",
              "      <td>https://i5.walmartimages.com/asr/e04c07b2-5222...</td>\n",
              "      <td>NaN</td>\n",
              "      <td>zoot/z130103201090</td>\n",
              "      <td>Zoot</td>\n",
              "      <td>Z130103201090</td>\n",
              "      <td>[{\"dateSeen\":[\"2016-11-11T09:49:00Z\"],\"name\":\"...</td>\n",
              "      <td>Zoot Tt Trainer 2.0   Round Toe Synthetic  Sne...</td>\n",
              "      <td>79.98</td>\n",
              "      <td>79.98</td>\n",
              "      <td>NaN</td>\n",
              "      <td>NaN</td>\n",
              "      <td>new</td>\n",
              "      <td>NaN</td>\n",
              "      <td>USD</td>\n",
              "      <td>2016-11-11T09:49:00Z</td>\n",
              "      <td>2016-11-09T00:00:00Z</td>\n",
              "      <td>NaN</td>\n",
              "      <td>TRUE</td>\n",
              "      <td>ApparelSave - Walmart.com</td>\n",
              "      <td>CLEARANCE USD 170.02</td>\n",
              "      <td>NaN</td>\n",
              "      <td>NaN</td>\n",
              "      <td>NaN</td>\n",
              "      <td>NaN</td>\n",
              "      <td>https://www.walmart.com/ip/Zoot-TT-TRAINER-2.0...</td>\n",
              "      <td>NaN</td>\n",
              "      <td>NaN</td>\n",
              "      <td>NaN</td>\n",
              "      <td>10,9</td>\n",
              "      <td>NaN</td>\n",
              "      <td>https://www.walmart.com/ip/Zoot-TT-TRAINER-2.0...</td>\n",
              "      <td>NaN</td>\n",
              "      <td>NaN</td>\n",
              "      <td>NaN</td>\n",
              "    </tr>\n",
              "    <tr>\n",
              "      <th>4</th>\n",
              "      <td>AVpfEqFRLJeJML431x7w</td>\n",
              "      <td>NaN</td>\n",
              "      <td>Wild Pair</td>\n",
              "      <td>Shoes,Women's Shoes,Clothing,All Women's Shoes</td>\n",
              "      <td>Brown</td>\n",
              "      <td>NaN</td>\n",
              "      <td>2016-11-16T12:56:36Z</td>\n",
              "      <td>2016-11-16T12:56:36Z</td>\n",
              "      <td>[{\"dateSeen\":[\"2016-11-16T12:56:36Z\"],\"sourceU...</td>\n",
              "      <td>NaN</td>\n",
              "      <td>7.631810e+11</td>\n",
              "      <td>[{\"key\":\"Heel Height\",\"value\":[\"High (3 in. an...</td>\n",
              "      <td>NaN</td>\n",
              "      <td>https://i5.walmartimages.com/asr/8b2c73f5-939f...</td>\n",
              "      <td>NaN</td>\n",
              "      <td>wildpair/colfaxcog,0763181233352,763181233352</td>\n",
              "      <td>Wild Pair</td>\n",
              "      <td>COLFAX-COG</td>\n",
              "      <td>[{\"dateSeen\":[\"2016-11-16T12:56:36Z\"],\"name\":\"...</td>\n",
              "      <td>Wild Pair Colfax Women  Peep-toe Synthetic Bro...</td>\n",
              "      <td>26.98</td>\n",
              "      <td>26.98</td>\n",
              "      <td>NaN</td>\n",
              "      <td>NaN</td>\n",
              "      <td>NaN</td>\n",
              "      <td>NaN</td>\n",
              "      <td>USD</td>\n",
              "      <td>2016-11-16T12:56:36Z</td>\n",
              "      <td>2016-11-09T00:00:00Z</td>\n",
              "      <td>NaN</td>\n",
              "      <td>TRUE</td>\n",
              "      <td>NaN</td>\n",
              "      <td>CLEARANCE USD 63.02</td>\n",
              "      <td>NaN</td>\n",
              "      <td>NaN</td>\n",
              "      <td>NaN</td>\n",
              "      <td>NaN</td>\n",
              "      <td>https://www.walmart.com/ip/Wild-Pair-Colfax-Wo...</td>\n",
              "      <td>NaN</td>\n",
              "      <td>NaN</td>\n",
              "      <td>NaN</td>\n",
              "      <td>8.5,7,7.5,8</td>\n",
              "      <td>NaN</td>\n",
              "      <td>https://www.walmart.com/ip/Wild-Pair-Colfax-Wo...</td>\n",
              "      <td>7.63181E+11</td>\n",
              "      <td>NaN</td>\n",
              "      <td>NaN</td>\n",
              "    </tr>\n",
              "  </tbody>\n",
              "</table>\n",
              "</div>"
            ],
            "text/plain": [
              "                     id asins      brand  ...          upc websiteIDs  weight\n",
              "0  AVpfBXx21cnluZ0-cKxs   NaN       Zoot  ...          NaN        NaN     NaN\n",
              "1  AVpfBXx21cnluZ0-cKxs   NaN       Zoot  ...          NaN        NaN     NaN\n",
              "2  AVpfBXx21cnluZ0-cKxs   NaN       Zoot  ...          NaN        NaN     NaN\n",
              "3  AVpfBXx21cnluZ0-cKxs   NaN       Zoot  ...          NaN        NaN     NaN\n",
              "4  AVpfEqFRLJeJML431x7w   NaN  Wild Pair  ...  7.63181E+11        NaN     NaN\n",
              "\n",
              "[5 rows x 47 columns]"
            ]
          },
          "metadata": {
            "tags": []
          },
          "execution_count": 51
        }
      ]
    },
    {
      "cell_type": "code",
      "metadata": {
        "id": "XrgXT8tQUHHi",
        "colab_type": "code",
        "colab": {
          "base_uri": "https://localhost:8080/",
          "height": 206
        },
        "outputId": "25887135-465e-410f-f5c3-170d891dc7ad"
      },
      "source": [
        "columns=['id','brand','manufacturerNumber','name','prices.amountMin','prices.amountMax','prices.currency','prices.merchant']\n",
        "data = data.loc[:,columns]\n",
        "data.head()"
      ],
      "execution_count": 52,
      "outputs": [
        {
          "output_type": "execute_result",
          "data": {
            "text/html": [
              "<div>\n",
              "<style scoped>\n",
              "    .dataframe tbody tr th:only-of-type {\n",
              "        vertical-align: middle;\n",
              "    }\n",
              "\n",
              "    .dataframe tbody tr th {\n",
              "        vertical-align: top;\n",
              "    }\n",
              "\n",
              "    .dataframe thead th {\n",
              "        text-align: right;\n",
              "    }\n",
              "</style>\n",
              "<table border=\"1\" class=\"dataframe\">\n",
              "  <thead>\n",
              "    <tr style=\"text-align: right;\">\n",
              "      <th></th>\n",
              "      <th>id</th>\n",
              "      <th>brand</th>\n",
              "      <th>manufacturerNumber</th>\n",
              "      <th>name</th>\n",
              "      <th>prices.amountMin</th>\n",
              "      <th>prices.amountMax</th>\n",
              "      <th>prices.currency</th>\n",
              "      <th>prices.merchant</th>\n",
              "    </tr>\n",
              "  </thead>\n",
              "  <tbody>\n",
              "    <tr>\n",
              "      <th>0</th>\n",
              "      <td>AVpfBXx21cnluZ0-cKxs</td>\n",
              "      <td>Zoot</td>\n",
              "      <td>Z130103201090</td>\n",
              "      <td>Zoot Tt Trainer 2.0   Round Toe Synthetic  Sne...</td>\n",
              "      <td>71.99</td>\n",
              "      <td>71.99</td>\n",
              "      <td>USD</td>\n",
              "      <td>NaN</td>\n",
              "    </tr>\n",
              "    <tr>\n",
              "      <th>1</th>\n",
              "      <td>AVpfBXx21cnluZ0-cKxs</td>\n",
              "      <td>Zoot</td>\n",
              "      <td>Z130103201090</td>\n",
              "      <td>Zoot Tt Trainer 2.0   Round Toe Synthetic  Sne...</td>\n",
              "      <td>250</td>\n",
              "      <td>250</td>\n",
              "      <td>USD</td>\n",
              "      <td>ApparelSave - Walmart.com</td>\n",
              "    </tr>\n",
              "    <tr>\n",
              "      <th>2</th>\n",
              "      <td>AVpfBXx21cnluZ0-cKxs</td>\n",
              "      <td>Zoot</td>\n",
              "      <td>Z130103201090</td>\n",
              "      <td>Zoot Tt Trainer 2.0   Round Toe Synthetic  Sne...</td>\n",
              "      <td>75.99</td>\n",
              "      <td>75.99</td>\n",
              "      <td>USD</td>\n",
              "      <td>ApparelSave - Walmart.com</td>\n",
              "    </tr>\n",
              "    <tr>\n",
              "      <th>3</th>\n",
              "      <td>AVpfBXx21cnluZ0-cKxs</td>\n",
              "      <td>Zoot</td>\n",
              "      <td>Z130103201090</td>\n",
              "      <td>Zoot Tt Trainer 2.0   Round Toe Synthetic  Sne...</td>\n",
              "      <td>79.98</td>\n",
              "      <td>79.98</td>\n",
              "      <td>USD</td>\n",
              "      <td>ApparelSave - Walmart.com</td>\n",
              "    </tr>\n",
              "    <tr>\n",
              "      <th>4</th>\n",
              "      <td>AVpfEqFRLJeJML431x7w</td>\n",
              "      <td>Wild Pair</td>\n",
              "      <td>COLFAX-COG</td>\n",
              "      <td>Wild Pair Colfax Women  Peep-toe Synthetic Bro...</td>\n",
              "      <td>26.98</td>\n",
              "      <td>26.98</td>\n",
              "      <td>USD</td>\n",
              "      <td>NaN</td>\n",
              "    </tr>\n",
              "  </tbody>\n",
              "</table>\n",
              "</div>"
            ],
            "text/plain": [
              "                     id      brand  ... prices.currency            prices.merchant\n",
              "0  AVpfBXx21cnluZ0-cKxs       Zoot  ...             USD                        NaN\n",
              "1  AVpfBXx21cnluZ0-cKxs       Zoot  ...             USD  ApparelSave - Walmart.com\n",
              "2  AVpfBXx21cnluZ0-cKxs       Zoot  ...             USD  ApparelSave - Walmart.com\n",
              "3  AVpfBXx21cnluZ0-cKxs       Zoot  ...             USD  ApparelSave - Walmart.com\n",
              "4  AVpfEqFRLJeJML431x7w  Wild Pair  ...             USD                        NaN\n",
              "\n",
              "[5 rows x 8 columns]"
            ]
          },
          "metadata": {
            "tags": []
          },
          "execution_count": 52
        }
      ]
    },
    {
      "cell_type": "code",
      "metadata": {
        "id": "rgbgnFpMVAXo",
        "colab_type": "code",
        "colab": {
          "base_uri": "https://localhost:8080/",
          "height": 187
        },
        "outputId": "f31e8b38-3cc4-4e4a-b598-acd6e24ac653"
      },
      "source": [
        "data.dropna(inplace=True)\n",
        "data.nunique()"
      ],
      "execution_count": 53,
      "outputs": [
        {
          "output_type": "execute_result",
          "data": {
            "text/plain": [
              "id                    6348\n",
              "brand                 1469\n",
              "manufacturerNumber    6238\n",
              "name                  6164\n",
              "prices.amountMin      3073\n",
              "prices.amountMax      3075\n",
              "prices.currency          5\n",
              "prices.merchant        428\n",
              "dtype: int64"
            ]
          },
          "metadata": {
            "tags": []
          },
          "execution_count": 53
        }
      ]
    },
    {
      "cell_type": "code",
      "metadata": {
        "id": "OFQavr0SVSer",
        "colab_type": "code",
        "colab": {}
      },
      "source": [
        "encode_list=[0,1,2,3,6,7]\n",
        "for i in encode_list:\n",
        "  labelencoder.fit(data.iloc[:,i])\n",
        "  data.iloc[:,i]=labelencoder.transform(data.iloc[:,i])"
      ],
      "execution_count": 0,
      "outputs": []
    },
    {
      "cell_type": "code",
      "metadata": {
        "id": "9Ip9ZsO_VUhE",
        "colab_type": "code",
        "colab": {
          "base_uri": "https://localhost:8080/",
          "height": 206
        },
        "outputId": "43c7be82-6734-4f73-d460-22ef5f9514ec"
      },
      "source": [
        "data.head()"
      ],
      "execution_count": 55,
      "outputs": [
        {
          "output_type": "execute_result",
          "data": {
            "text/html": [
              "<div>\n",
              "<style scoped>\n",
              "    .dataframe tbody tr th:only-of-type {\n",
              "        vertical-align: middle;\n",
              "    }\n",
              "\n",
              "    .dataframe tbody tr th {\n",
              "        vertical-align: top;\n",
              "    }\n",
              "\n",
              "    .dataframe thead th {\n",
              "        text-align: right;\n",
              "    }\n",
              "</style>\n",
              "<table border=\"1\" class=\"dataframe\">\n",
              "  <thead>\n",
              "    <tr style=\"text-align: right;\">\n",
              "      <th></th>\n",
              "      <th>id</th>\n",
              "      <th>brand</th>\n",
              "      <th>manufacturerNumber</th>\n",
              "      <th>name</th>\n",
              "      <th>prices.amountMin</th>\n",
              "      <th>prices.amountMax</th>\n",
              "      <th>prices.currency</th>\n",
              "      <th>prices.merchant</th>\n",
              "    </tr>\n",
              "  </thead>\n",
              "  <tbody>\n",
              "    <tr>\n",
              "      <th>1</th>\n",
              "      <td>1938</td>\n",
              "      <td>1441</td>\n",
              "      <td>6038</td>\n",
              "      <td>6162</td>\n",
              "      <td>250</td>\n",
              "      <td>250</td>\n",
              "      <td>4</td>\n",
              "      <td>32</td>\n",
              "    </tr>\n",
              "    <tr>\n",
              "      <th>2</th>\n",
              "      <td>1938</td>\n",
              "      <td>1441</td>\n",
              "      <td>6038</td>\n",
              "      <td>6162</td>\n",
              "      <td>75.99</td>\n",
              "      <td>75.99</td>\n",
              "      <td>4</td>\n",
              "      <td>32</td>\n",
              "    </tr>\n",
              "    <tr>\n",
              "      <th>3</th>\n",
              "      <td>1938</td>\n",
              "      <td>1441</td>\n",
              "      <td>6038</td>\n",
              "      <td>6162</td>\n",
              "      <td>79.98</td>\n",
              "      <td>79.98</td>\n",
              "      <td>4</td>\n",
              "      <td>32</td>\n",
              "    </tr>\n",
              "    <tr>\n",
              "      <th>6</th>\n",
              "      <td>2562</td>\n",
              "      <td>1411</td>\n",
              "      <td>2828</td>\n",
              "      <td>5797</td>\n",
              "      <td>90</td>\n",
              "      <td>90</td>\n",
              "      <td>4</td>\n",
              "      <td>32</td>\n",
              "    </tr>\n",
              "    <tr>\n",
              "      <th>7</th>\n",
              "      <td>2638</td>\n",
              "      <td>1270</td>\n",
              "      <td>4425</td>\n",
              "      <td>5043</td>\n",
              "      <td>318</td>\n",
              "      <td>318</td>\n",
              "      <td>4</td>\n",
              "      <td>267</td>\n",
              "    </tr>\n",
              "  </tbody>\n",
              "</table>\n",
              "</div>"
            ],
            "text/plain": [
              "     id  brand  ...  prices.currency  prices.merchant\n",
              "1  1938   1441  ...                4               32\n",
              "2  1938   1441  ...                4               32\n",
              "3  1938   1441  ...                4               32\n",
              "6  2562   1411  ...                4               32\n",
              "7  2638   1270  ...                4              267\n",
              "\n",
              "[5 rows x 8 columns]"
            ]
          },
          "metadata": {
            "tags": []
          },
          "execution_count": 55
        }
      ]
    },
    {
      "cell_type": "code",
      "metadata": {
        "id": "z3G5Fk8IVfYH",
        "colab_type": "code",
        "colab": {}
      },
      "source": [
        "X = data.iloc[:,[0,1,2,3,6,7]].values\n",
        "y= data.iloc[:,5].values\n",
        "X=scaler.fit_transform(X)"
      ],
      "execution_count": 0,
      "outputs": []
    },
    {
      "cell_type": "code",
      "metadata": {
        "id": "Yqsvw1rRVlCa",
        "colab_type": "code",
        "colab": {
          "base_uri": "https://localhost:8080/",
          "height": 74
        },
        "outputId": "51d5cc3e-5988-4be3-feb5-62d060e6e7e5"
      },
      "source": [
        "scr.fit(X,y)"
      ],
      "execution_count": 57,
      "outputs": [
        {
          "output_type": "execute_result",
          "data": {
            "text/plain": [
              "LinearSVR(C=1.0, dual=True, epsilon=0.0, fit_intercept=True,\n",
              "          intercept_scaling=1.0, loss='epsilon_insensitive', max_iter=1000,\n",
              "          random_state=None, tol=0.0001, verbose=0)"
            ]
          },
          "metadata": {
            "tags": []
          },
          "execution_count": 57
        }
      ]
    },
    {
      "cell_type": "code",
      "metadata": {
        "id": "8W_VmoEjVpKr",
        "colab_type": "code",
        "colab": {
          "base_uri": "https://localhost:8080/",
          "height": 74
        },
        "outputId": "51bb6a61-639f-4390-9a12-8078f58e6667"
      },
      "source": [
        "eff_model.fit(X,y)"
      ],
      "execution_count": 58,
      "outputs": [
        {
          "output_type": "execute_result",
          "data": {
            "text/plain": [
              "LinearSVR(C=2.639544, dual=True, epsilon=0.0, fit_intercept=True,\n",
              "          intercept_scaling=1.0, loss='epsilon_insensitive', max_iter=1313,\n",
              "          random_state=None, tol=0.0001, verbose=0)"
            ]
          },
          "metadata": {
            "tags": []
          },
          "execution_count": 58
        }
      ]
    },
    {
      "cell_type": "code",
      "metadata": {
        "id": "vicQ8k8PVshX",
        "colab_type": "code",
        "colab": {
          "base_uri": "https://localhost:8080/",
          "height": 55
        },
        "outputId": "b1c51c16-5117-48d5-f212-74b3b4beb1db"
      },
      "source": [
        "print(\"Error produced by model with Optimal parameters  : \",mean_squared_error(y,eff_model.predict(X)))\n",
        "\n",
        "print(\"Error produced by model with default parameters  : \",mean_squared_error(y,scr.predict(X)))"
      ],
      "execution_count": 59,
      "outputs": [
        {
          "output_type": "stream",
          "text": [
            "Error produced by model with Optimal parameters  :  227577.27469832078\n",
            "Error produced by model with default parameters  :  227636.07898527905\n"
          ],
          "name": "stdout"
        }
      ]
    },
    {
      "cell_type": "code",
      "metadata": {
        "id": "KTYoeXvtVy1j",
        "colab_type": "code",
        "colab": {}
      },
      "source": [
        ""
      ],
      "execution_count": 0,
      "outputs": []
    }
  ]
}